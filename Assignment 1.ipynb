{
 "cells": [
  {
   "cell_type": "markdown",
   "id": "a4e8ef03",
   "metadata": {},
   "source": [
    "1. In the below elements which of them are values or an expression? eg:- values can be integer or string and expressions will be mathematical operators.\n",
    "* \n",
    "'hello'\n",
    "-87.8\n",
    "- \n",
    "/ \n",
    "+\t\n",
    "6 \n",
    "\n"
   ]
  },
  {
   "cell_type": "markdown",
   "id": "4a3e3d9d",
   "metadata": {},
   "source": [
    "Ans- In the following elements-\n",
    "     \"hello\" , -87.8, 6 are the values\n",
    "     * , - , +, / , are the expressions"
   ]
  },
  {
   "cell_type": "markdown",
   "id": "44c2c113",
   "metadata": {},
   "source": [
    "2. What is the difference between string and variable?"
   ]
  },
  {
   "cell_type": "markdown",
   "id": "ecd50dc5",
   "metadata": {},
   "source": [
    "Ans- A Variable is used to store the information, and a String is a type of information we would store in a Variable."
   ]
  },
  {
   "cell_type": "markdown",
   "id": "626a0282",
   "metadata": {},
   "source": [
    "3. Describe three different data types."
   ]
  },
  {
   "cell_type": "markdown",
   "id": "f9bf8160",
   "metadata": {},
   "source": [
    "Ans- The three different data types are -\n",
    "     \n",
    "     1. Integer - it represent the whole number. For example- 2 , 45,100\n",
    "    \n",
    "    2. Floating number - it represents the floating or demical point values. \n",
    "                          For example- 2.3, 55.25, 225.37\n",
    "    \n",
    "    3. Complex- it represents the complex number which consits of a real                     number and imaginary number. For example - 20+5j, 40-3j\n",
    "    \n",
    "    "
   ]
  },
  {
   "cell_type": "markdown",
   "id": "51aca4af",
   "metadata": {},
   "source": [
    "4. What is an expression made up of? What do all expressions do?"
   ]
  },
  {
   "cell_type": "markdown",
   "id": "72c465c2",
   "metadata": {},
   "source": [
    "Ans- An expression is made up of combination of values, varialbles, operators and calls to function.  Expressions need to be evaluated. If we ask       Python to print an expression, the interpreter evaluates the expression and displays the result.\n",
    "    \n",
    "    "
   ]
  },
  {
   "cell_type": "code",
   "execution_count": 4,
   "id": "22b3db5c",
   "metadata": {},
   "outputs": [
    {
     "data": {
      "text/plain": [
       "55.0"
      ]
     },
     "execution_count": 4,
     "metadata": {},
     "output_type": "execute_result"
    }
   ],
   "source": [
    "50+20-30*2/4  #is an example of expression"
   ]
  },
  {
   "cell_type": "markdown",
   "id": "d21bd00a",
   "metadata": {},
   "source": [
    "5.This assignment statements, like spam = 10. What is the difference between \n",
    "   an expression and a statement?"
   ]
  },
  {
   "cell_type": "markdown",
   "id": "5cc393a3",
   "metadata": {},
   "source": [
    "Ans- An expression is made up of combination of values, varialbles, operators\n",
    "     and calls to function.  Expressions need to be evaluated. If we ask Python to print an expression, the interpreter evaluates the expression and displays the result.A statement is a unit of code that has an effect, like creating a variable or displaying a value.When we type a statement, the interpreter executes it, which means that it does whatever the\n",
    "     statement says. In general, statements don’t have values.\n",
    "     "
   ]
  },
  {
   "cell_type": "code",
   "execution_count": 5,
   "id": "d969c0ea",
   "metadata": {},
   "outputs": [],
   "source": [
    "#Example\n",
    "50+20-30*2/4  #is an example of expression\n",
    "a= \"vivek\"  #is an statement"
   ]
  },
  {
   "cell_type": "markdown",
   "id": "c9634f1e",
   "metadata": {},
   "source": [
    "6.After running the following code, what does the variable bacon contain?\n",
    "bacon = 22\n",
    "bacon + 1"
   ]
  },
  {
   "cell_type": "code",
   "execution_count": 8,
   "id": "3b667594",
   "metadata": {},
   "outputs": [
    {
     "data": {
      "text/plain": [
       "23"
      ]
     },
     "execution_count": 8,
     "metadata": {},
     "output_type": "execute_result"
    }
   ],
   "source": [
    "bacon=22\n",
    "bacon + 1"
   ]
  },
  {
   "cell_type": "raw",
   "id": "c7388f5a",
   "metadata": {},
   "source": [
    "After running the following code, the variable \"bacon\" contains the value set to 22."
   ]
  },
  {
   "cell_type": "markdown",
   "id": "35b9653b",
   "metadata": {},
   "source": [
    "7.What should the values of the following two terms be?\n",
    "'spam'+'spamspam'\n",
    "'spam'*3"
   ]
  },
  {
   "cell_type": "code",
   "execution_count": 11,
   "id": "45f09333",
   "metadata": {},
   "outputs": [
    {
     "data": {
      "text/plain": [
       "'spamspamspam'"
      ]
     },
     "execution_count": 11,
     "metadata": {},
     "output_type": "execute_result"
    }
   ],
   "source": [
    "\"spam\"+\"spamspam\""
   ]
  },
  {
   "cell_type": "code",
   "execution_count": 12,
   "id": "f40b3a68",
   "metadata": {},
   "outputs": [
    {
     "data": {
      "text/plain": [
       "'spamspamspam'"
      ]
     },
     "execution_count": 12,
     "metadata": {},
     "output_type": "execute_result"
    }
   ],
   "source": [
    "\"spam\"*3"
   ]
  },
  {
   "cell_type": "markdown",
   "id": "3668c16f",
   "metadata": {},
   "source": [
    "The first expression follows string concatentation and \n",
    "the second expression follows string multiplication"
   ]
  },
  {
   "cell_type": "markdown",
   "id": "b05dfc94",
   "metadata": {},
   "source": [
    "8. Why is eggs a valid variable name while 100 is invalid?"
   ]
  },
  {
   "cell_type": "markdown",
   "id": "0b8e4de7",
   "metadata": {},
   "source": [
    "Ans- Variables cannot start with a number.\n",
    "\n",
    "Variables name must start with a letter or the underscore character."
   ]
  },
  {
   "cell_type": "markdown",
   "id": "073e9316",
   "metadata": {},
   "source": [
    "9.What three functions can be used to get the integer,floating-point number,or string version of a value?"
   ]
  },
  {
   "cell_type": "code",
   "execution_count": 19,
   "id": "67a0e50c",
   "metadata": {},
   "outputs": [
    {
     "data": {
      "text/plain": [
       "23"
      ]
     },
     "execution_count": 19,
     "metadata": {},
     "output_type": "execute_result"
    }
   ],
   "source": [
    "int(23)"
   ]
  },
  {
   "cell_type": "code",
   "execution_count": 20,
   "id": "f068c848",
   "metadata": {},
   "outputs": [
    {
     "data": {
      "text/plain": [
       "23.12"
      ]
     },
     "execution_count": 20,
     "metadata": {},
     "output_type": "execute_result"
    }
   ],
   "source": [
    "float(23.12)"
   ]
  },
  {
   "cell_type": "code",
   "execution_count": 21,
   "id": "8fbebe71",
   "metadata": {},
   "outputs": [
    {
     "data": {
      "text/plain": [
       "'vivek'"
      ]
     },
     "execution_count": 21,
     "metadata": {},
     "output_type": "execute_result"
    }
   ],
   "source": [
    "str(\"vivek\")"
   ]
  },
  {
   "cell_type": "markdown",
   "id": "22f13a77",
   "metadata": {},
   "source": [
    "Ans- The int() , float(), str() functions can be used to get the integer, floating number, or string version od=f a value."
   ]
  },
  {
   "cell_type": "markdown",
   "id": "6bdb9a8e",
   "metadata": {},
   "source": [
    "10.Why does this expression cause an error? how can you fix it?\n",
    "'I have eaten ' + 99 + 'burritos.'"
   ]
  },
  {
   "cell_type": "code",
   "execution_count": 22,
   "id": "cbbd943b",
   "metadata": {},
   "outputs": [
    {
     "ename": "TypeError",
     "evalue": "can only concatenate str (not \"int\") to str",
     "output_type": "error",
     "traceback": [
      "\u001b[1;31m---------------------------------------------------------------------------\u001b[0m",
      "\u001b[1;31mTypeError\u001b[0m                                 Traceback (most recent call last)",
      "\u001b[1;32m~\\AppData\\Local\\Temp\\ipykernel_23520\\3122054138.py\u001b[0m in \u001b[0;36m<module>\u001b[1;34m\u001b[0m\n\u001b[1;32m----> 1\u001b[1;33m \u001b[1;34m\"I have eaten\"\u001b[0m \u001b[1;33m+\u001b[0m \u001b[1;36m99\u001b[0m \u001b[1;33m+\u001b[0m\u001b[1;34m\"burritos\"\u001b[0m\u001b[1;33m\u001b[0m\u001b[1;33m\u001b[0m\u001b[0m\n\u001b[0m",
      "\u001b[1;31mTypeError\u001b[0m: can only concatenate str (not \"int\") to str"
     ]
    }
   ],
   "source": [
    "\"I have eaten\" + 99 +\"burritos\""
   ]
  },
  {
   "cell_type": "markdown",
   "id": "811364ab",
   "metadata": {},
   "source": [
    "Ans- This expression causes an error because 99 is not a string. 99 must be\n",
    "typecasted in a string format to fix this error."
   ]
  },
  {
   "cell_type": "code",
   "execution_count": 3,
   "id": "68c0b310",
   "metadata": {},
   "outputs": [
    {
     "data": {
      "text/plain": [
       "'I have eaten 99 burritos'"
      ]
     },
     "execution_count": 3,
     "metadata": {},
     "output_type": "execute_result"
    }
   ],
   "source": [
    "\"I have eaten\" + \" 99\" +\" burritos\""
   ]
  },
  {
   "cell_type": "code",
   "execution_count": null,
   "id": "e4499d3c",
   "metadata": {},
   "outputs": [],
   "source": []
  }
 ],
 "metadata": {
  "kernelspec": {
   "display_name": "Python 3 (ipykernel)",
   "language": "python",
   "name": "python3"
  },
  "language_info": {
   "codemirror_mode": {
    "name": "ipython",
    "version": 3
   },
   "file_extension": ".py",
   "mimetype": "text/x-python",
   "name": "python",
   "nbconvert_exporter": "python",
   "pygments_lexer": "ipython3",
   "version": "3.9.13"
  }
 },
 "nbformat": 4,
 "nbformat_minor": 5
}
