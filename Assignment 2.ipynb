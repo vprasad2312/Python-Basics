{
 "cells": [
  {
   "cell_type": "markdown",
   "id": "a8e76f14",
   "metadata": {},
   "source": [
    "1.What are the two values of the boolean data types? how do you write them ?"
   ]
  },
  {
   "cell_type": "markdown",
   "id": "b30e0355",
   "metadata": {},
   "source": [
    "Ans: True and False are two values of the boolen data types. We have to use capital T and F and with the rest of the word in lowercase"
   ]
  },
  {
   "cell_type": "markdown",
   "id": "473a05d6",
   "metadata": {},
   "source": [
    "2. What are the three different types of Boolean operators?"
   ]
  },
  {
   "cell_type": "markdown",
   "id": "9ad8a1f1",
   "metadata": {},
   "source": [
    "Ans: The three differnt types of Boolean operators in python are: or and not"
   ]
  },
  {
   "cell_type": "code",
   "execution_count": 1,
   "id": "9a80b325",
   "metadata": {},
   "outputs": [
    {
     "name": "stdout",
     "output_type": "stream",
     "text": [
      "True\n",
      "True\n",
      "False\n"
     ]
    }
   ],
   "source": [
    "a=100\n",
    "b=200\n",
    "print(a>50 and b>100)\n",
    "print(a>200 or b>100)\n",
    "print(not(a>10))"
   ]
  },
  {
   "cell_type": "markdown",
   "id": "13f5369d",
   "metadata": {},
   "source": [
    "3. Make a list of each Boolean operator's truth tables (i.e. every possible combination of Boolean values for the operator and what it evaluate) ?"
   ]
  },
  {
   "cell_type": "code",
   "execution_count": null,
   "id": "99942042",
   "metadata": {},
   "outputs": [],
   "source": [
    "Truth Table for \"and\" operaotor\n",
    "\n",
    "True and True is True\n",
    "True and False is False\n",
    "False and True is False\n",
    "False and False is False\n",
    "\n",
    "Truth Table for \"or\" operaotor\n",
    "\n",
    "True or True is True\n",
    "True or False is True\n",
    "False or True is True\n",
    "False or False is False\n",
    "\n",
    "Truth Table for \"not\" operaotor\n",
    "\n",
    "True not is False False not is True"
   ]
  },
  {
   "cell_type": "markdown",
   "id": "193fa96d",
   "metadata": {},
   "source": [
    "4. What are the values of the following expressions ?\n",
    "1)(5 > 4) and (3 == 5)\n",
    "2)not (5 > 4)\n",
    "3) (5 > 4) or (3 == 5)\n",
    "4) not ((5 > 4) or (3 == 5))\n",
    "5) (True and True) and (True == False)\n",
    "6) (not False) or (not True)"
   ]
  },
  {
   "cell_type": "code",
   "execution_count": 5,
   "id": "21d4d646",
   "metadata": {},
   "outputs": [
    {
     "data": {
      "text/plain": [
       "False"
      ]
     },
     "execution_count": 5,
     "metadata": {},
     "output_type": "execute_result"
    }
   ],
   "source": [
    "(5>4) and (3==5)"
   ]
  },
  {
   "cell_type": "code",
   "execution_count": 6,
   "id": "1afccaf3",
   "metadata": {},
   "outputs": [
    {
     "data": {
      "text/plain": [
       "False"
      ]
     },
     "execution_count": 6,
     "metadata": {},
     "output_type": "execute_result"
    }
   ],
   "source": [
    "not(5>4)"
   ]
  },
  {
   "cell_type": "code",
   "execution_count": 7,
   "id": "56538f98",
   "metadata": {},
   "outputs": [
    {
     "data": {
      "text/plain": [
       "True"
      ]
     },
     "execution_count": 7,
     "metadata": {},
     "output_type": "execute_result"
    }
   ],
   "source": [
    "(5>4) or (3==5)"
   ]
  },
  {
   "cell_type": "code",
   "execution_count": 8,
   "id": "208a545e",
   "metadata": {},
   "outputs": [
    {
     "data": {
      "text/plain": [
       "False"
      ]
     },
     "execution_count": 8,
     "metadata": {},
     "output_type": "execute_result"
    }
   ],
   "source": [
    "not((5>4)or(3==5))"
   ]
  },
  {
   "cell_type": "code",
   "execution_count": 10,
   "id": "0df40806",
   "metadata": {},
   "outputs": [
    {
     "data": {
      "text/plain": [
       "False"
      ]
     },
     "execution_count": 10,
     "metadata": {},
     "output_type": "execute_result"
    }
   ],
   "source": [
    "(True and True) and (True==False)"
   ]
  },
  {
   "cell_type": "code",
   "execution_count": 11,
   "id": "13d9bfd3",
   "metadata": {},
   "outputs": [
    {
     "data": {
      "text/plain": [
       "True"
      ]
     },
     "execution_count": 11,
     "metadata": {},
     "output_type": "execute_result"
    }
   ],
   "source": [
    "(not False)or (not True)"
   ]
  },
  {
   "cell_type": "markdown",
   "id": "ddf44be9",
   "metadata": {},
   "source": [
    "5. What are the six comparison operators?"
   ]
  },
  {
   "cell_type": "markdown",
   "id": "9ad416be",
   "metadata": {},
   "source": [
    "Ans- The six comparison operators are- ==, !=, <,>, <=,>="
   ]
  },
  {
   "cell_type": "markdown",
   "id": "e3f87898",
   "metadata": {},
   "source": [
    "6. How do you tell the difference between the equal to and assignment operators?Describe a condition and when you would use one ?"
   ]
  },
  {
   "cell_type": "markdown",
   "id": "4281cc29",
   "metadata": {},
   "source": [
    "Ans- ==is the equal to operator that compares two values and evaluates to a boolean, while = is that assignment operator that stores a value in a variable."
   ]
  },
  {
   "cell_type": "code",
   "execution_count": 14,
   "id": "e00acd68",
   "metadata": {},
   "outputs": [],
   "source": [
    "v=3"
   ]
  },
  {
   "cell_type": "code",
   "execution_count": 15,
   "id": "632939a1",
   "metadata": {},
   "outputs": [
    {
     "data": {
      "text/plain": [
       "True"
      ]
     },
     "execution_count": 15,
     "metadata": {},
     "output_type": "execute_result"
    }
   ],
   "source": [
    "v==3"
   ]
  },
  {
   "cell_type": "raw",
   "id": "5562eb4c",
   "metadata": {},
   "source": [
    "7. Identify the three blocks in this code:\n",
    "spam = 0\n",
    "if spam == 10:\n",
    "print('eggs')\n",
    "if spam > 5:\n",
    "print('bacon')\n",
    "else:\n",
    "print('ham')\n",
    "print('spam')\n",
    "print('spam')\n",
    "\n"
   ]
  },
  {
   "cell_type": "code",
   "execution_count": 17,
   "id": "b093e329",
   "metadata": {},
   "outputs": [
    {
     "name": "stdout",
     "output_type": "stream",
     "text": [
      "ham\n",
      "spam\n",
      "spam\n"
     ]
    }
   ],
   "source": [
    "spam=0\n",
    "if spam ==10:          #block 1\n",
    "    print(\"eggs\")\n",
    "if spam > 5:           #block 2\n",
    "    print(\"bacon\")\n",
    "else:                  #block3\n",
    "    print(\"ham\")\n",
    "print(\"spam\")\n",
    "print(\"spam\")"
   ]
  },
  {
   "cell_type": "markdown",
   "id": "e88b9f62",
   "metadata": {},
   "source": [
    "8. Write code that prints Hello if 1 is stored in spam, prints Howdy if 2 is stored in spam, and prints Greetings! if anything else is stored in spam."
   ]
  },
  {
   "cell_type": "code",
   "execution_count": 20,
   "id": "a423c604",
   "metadata": {},
   "outputs": [],
   "source": [
    "def spamcode(spam):\n",
    "    if spam==1:\n",
    "        print(\"Hello\")\n",
    "    elif spam ==2:\n",
    "        print(\"Howdy\")\n",
    "    else:\n",
    "        print(\"Greetings!\")\n",
    "        "
   ]
  },
  {
   "cell_type": "code",
   "execution_count": 21,
   "id": "74a6e0d6",
   "metadata": {},
   "outputs": [
    {
     "name": "stdout",
     "output_type": "stream",
     "text": [
      "Hello\n"
     ]
    }
   ],
   "source": [
    "spamcode(1)"
   ]
  },
  {
   "cell_type": "code",
   "execution_count": 22,
   "id": "def11c7f",
   "metadata": {},
   "outputs": [
    {
     "name": "stdout",
     "output_type": "stream",
     "text": [
      "Howdy\n"
     ]
    }
   ],
   "source": [
    "spamcode(2)"
   ]
  },
  {
   "cell_type": "code",
   "execution_count": 23,
   "id": "4bb52ff0",
   "metadata": {},
   "outputs": [
    {
     "name": "stdout",
     "output_type": "stream",
     "text": [
      "Greetings!\n"
     ]
    }
   ],
   "source": [
    "spamcode(5)"
   ]
  },
  {
   "cell_type": "markdown",
   "id": "fe9096ac",
   "metadata": {},
   "source": [
    "9.If your programme is stuck in an endless loop, what keys you’ll press?"
   ]
  },
  {
   "cell_type": "markdown",
   "id": "66b69a1f",
   "metadata": {},
   "source": [
    "Ans- By pressing Ctrl-c it will stop a program stuck in an infinite loop"
   ]
  },
  {
   "cell_type": "markdown",
   "id": "4c20e9a1",
   "metadata": {},
   "source": [
    "10. How can you tell the difference between break and continue?"
   ]
  },
  {
   "cell_type": "markdown",
   "id": "1c3337bd",
   "metadata": {},
   "source": [
    "Ans: The break statement will move the execution outside the loop if break condtion is satisfied. Whereas the continue statement will move the execution to the start of the loop."
   ]
  },
  {
   "cell_type": "markdown",
   "id": "586648e3",
   "metadata": {},
   "source": [
    "11. In a for loop, what is the difference between range(10), range(0, 10), and range(0, 10, 1)?"
   ]
  },
  {
   "cell_type": "markdown",
   "id": "9defd9bb",
   "metadata": {},
   "source": [
    "Ans- range(10) call range from 0 to 9\n",
    "     range(0,10) refers to tell the loop to start from 0.\n",
    "     range(0,10,1) tells the loop to start from 0 and increse the variable by 1 on each iteration."
   ]
  },
  {
   "cell_type": "markdown",
   "id": "f0cfd9cb",
   "metadata": {},
   "source": [
    "12. Write a short program that prints the numbers 1 to 10 using a for loop. Then write an equivalent program that prints the numbers 1 to 10 using a while loop ?"
   ]
  },
  {
   "cell_type": "code",
   "execution_count": 25,
   "id": "9ce5fc63",
   "metadata": {},
   "outputs": [
    {
     "name": "stdout",
     "output_type": "stream",
     "text": [
      "1\n",
      "2\n",
      "3\n",
      "4\n",
      "5\n",
      "6\n",
      "7\n",
      "8\n",
      "9\n",
      "10\n"
     ]
    }
   ],
   "source": [
    "for i in range(1,11):\n",
    "    print(i)"
   ]
  },
  {
   "cell_type": "code",
   "execution_count": 30,
   "id": "f540a4de",
   "metadata": {},
   "outputs": [
    {
     "name": "stdout",
     "output_type": "stream",
     "text": [
      "1\n",
      "2\n",
      "3\n",
      "4\n",
      "5\n",
      "6\n",
      "7\n",
      "8\n",
      "9\n",
      "10\n"
     ]
    }
   ],
   "source": [
    "a=0\n",
    "b=9\n",
    "while a<=b:\n",
    "    \n",
    "    a=a+1\n",
    "    print(a)"
   ]
  },
  {
   "cell_type": "markdown",
   "id": "053a8421",
   "metadata": {},
   "source": [
    "13. If you had a function named bacon() inside a module named spam, how would you call it after importing spam ?"
   ]
  },
  {
   "cell_type": "markdown",
   "id": "602fad0d",
   "metadata": {},
   "source": [
    "Ans: This function can be called with spam.bacon()"
   ]
  },
  {
   "cell_type": "code",
   "execution_count": null,
   "id": "b834e822",
   "metadata": {},
   "outputs": [],
   "source": []
  }
 ],
 "metadata": {
  "kernelspec": {
   "display_name": "Python 3 (ipykernel)",
   "language": "python",
   "name": "python3"
  },
  "language_info": {
   "codemirror_mode": {
    "name": "ipython",
    "version": 3
   },
   "file_extension": ".py",
   "mimetype": "text/x-python",
   "name": "python",
   "nbconvert_exporter": "python",
   "pygments_lexer": "ipython3",
   "version": "3.9.13"
  }
 },
 "nbformat": 4,
 "nbformat_minor": 5
}
