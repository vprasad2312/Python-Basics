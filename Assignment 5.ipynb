{
 "cells": [
  {
   "cell_type": "markdown",
   "id": "57aa3b6b",
   "metadata": {},
   "source": [
    "1.What does an empty dictionary's code look like?"
   ]
  },
  {
   "cell_type": "code",
   "execution_count": 1,
   "id": "b5f41a31",
   "metadata": {},
   "outputs": [],
   "source": [
    "dict={}"
   ]
  },
  {
   "cell_type": "markdown",
   "id": "18e02bd9",
   "metadata": {},
   "source": [
    "2.what is the value of dictionary value with key 'foo' and the value 42 ?"
   ]
  },
  {
   "cell_type": "code",
   "execution_count": 2,
   "id": "5900c6f6",
   "metadata": {},
   "outputs": [],
   "source": [
    "d= {\"foo\": 42}"
   ]
  },
  {
   "cell_type": "markdown",
   "id": "4375612b",
   "metadata": {},
   "source": [
    "3.What is the most significant distinction between a dictionary and a list?"
   ]
  },
  {
   "cell_type": "markdown",
   "id": "09b2b0cf",
   "metadata": {},
   "source": [
    "Ans- The items stored in a dictionaries are unordered and in lists items are ordered. Dictionaries is represented by {} and list is represented by[]"
   ]
  },
  {
   "cell_type": "markdown",
   "id": "247b9ad8",
   "metadata": {},
   "source": [
    "4.What happens if you try to access spam ['foo'] if spam is {'bar':100} ?"
   ]
  },
  {
   "cell_type": "code",
   "execution_count": 4,
   "id": "a1aeb709",
   "metadata": {},
   "outputs": [
    {
     "ename": "KeyError",
     "evalue": "'foo'",
     "output_type": "error",
     "traceback": [
      "\u001b[1;31m---------------------------------------------------------------------------\u001b[0m",
      "\u001b[1;31mKeyError\u001b[0m                                  Traceback (most recent call last)",
      "\u001b[1;32m~\\AppData\\Local\\Temp\\ipykernel_19860\\601959792.py\u001b[0m in \u001b[0;36m<module>\u001b[1;34m\u001b[0m\n\u001b[0;32m      1\u001b[0m \u001b[0mspam\u001b[0m \u001b[1;33m=\u001b[0m\u001b[1;33m{\u001b[0m\u001b[1;34m\"bar\"\u001b[0m\u001b[1;33m:\u001b[0m\u001b[1;36m100\u001b[0m\u001b[1;33m}\u001b[0m\u001b[1;33m\u001b[0m\u001b[1;33m\u001b[0m\u001b[0m\n\u001b[1;32m----> 2\u001b[1;33m \u001b[0mspam\u001b[0m\u001b[1;33m[\u001b[0m\u001b[1;34m\"foo\"\u001b[0m\u001b[1;33m]\u001b[0m\u001b[1;33m\u001b[0m\u001b[1;33m\u001b[0m\u001b[0m\n\u001b[0m",
      "\u001b[1;31mKeyError\u001b[0m: 'foo'"
     ]
    }
   ],
   "source": [
    "spam ={\"bar\":100}\n",
    "spam[\"foo\"]"
   ]
  },
  {
   "cell_type": "markdown",
   "id": "cb66b534",
   "metadata": {},
   "source": [
    "Ans- we will get a keyError KeyError: 'foo'"
   ]
  },
  {
   "cell_type": "markdown",
   "id": "55991c93",
   "metadata": {},
   "source": [
    "5.if a dictionary is stored in spam,what is the difference between the expressions 'cat' in spam and 'cat' in spam.keys() ?"
   ]
  },
  {
   "cell_type": "markdown",
   "id": "532161ae",
   "metadata": {},
   "source": [
    "Ans- There is no difference . The operator checks whether a value exits as a key in the dictionary or not"
   ]
  },
  {
   "cell_type": "markdown",
   "id": "d9bd9690",
   "metadata": {},
   "source": [
    "6.if a dictionary is stored in spam,what is the difference between the expressions 'cat' in spam and 'cat' in spam.values() ?"
   ]
  },
  {
   "cell_type": "markdown",
   "id": "d4a8fc3c",
   "metadata": {},
   "source": [
    "Ans- \"cat\" in spam checks whether there is a \"cat\" key in the dictionary, while \"cat\" in spam.values() checks whether there is a value \"cat\" for one of the keys in spam."
   ]
  },
  {
   "cell_type": "markdown",
   "id": "df79511a",
   "metadata": {},
   "source": [
    "7.what is a shortcut for the following code ?\n",
    "if 'color' not in spam: spam['color'] ='black'"
   ]
  },
  {
   "cell_type": "code",
   "execution_count": 5,
   "id": "940752b5",
   "metadata": {},
   "outputs": [
    {
     "data": {
      "text/plain": [
       "'black'"
      ]
     },
     "execution_count": 5,
     "metadata": {},
     "output_type": "execute_result"
    }
   ],
   "source": [
    "spam.setdefault(\"color\",\"black\")"
   ]
  },
  {
   "cell_type": "markdown",
   "id": "f8d56bd3",
   "metadata": {},
   "source": [
    "8.How do you 'pretty print' dictionary values using which modules and function ?"
   ]
  },
  {
   "cell_type": "code",
   "execution_count": 15,
   "id": "6ec8f81e",
   "metadata": {},
   "outputs": [
    {
     "name": "stdout",
     "output_type": "stream",
     "text": [
      "{'Age': 26, 'Gender': 'Male', 'Name': 'Vivek', 'Place': 'Pune'}\n"
     ]
    }
   ],
   "source": [
    "import pprint\n",
    "dict={\"Name\":\"Vivek\",\"Age\":26, \"Gender\":\"Male\",\"Place\": \"Pune\"}\n",
    "pprint.pprint(dict)"
   ]
  },
  {
   "cell_type": "code",
   "execution_count": null,
   "id": "cd74f882",
   "metadata": {},
   "outputs": [],
   "source": []
  }
 ],
 "metadata": {
  "kernelspec": {
   "display_name": "Python 3 (ipykernel)",
   "language": "python",
   "name": "python3"
  },
  "language_info": {
   "codemirror_mode": {
    "name": "ipython",
    "version": 3
   },
   "file_extension": ".py",
   "mimetype": "text/x-python",
   "name": "python",
   "nbconvert_exporter": "python",
   "pygments_lexer": "ipython3",
   "version": "3.9.13"
  }
 },
 "nbformat": 4,
 "nbformat_minor": 5
}
